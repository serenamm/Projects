{
 "cells": [
  {
   "cell_type": "code",
   "execution_count": 29,
   "metadata": {
    "collapsed": false
   },
   "outputs": [],
   "source": [
    "import requests\n",
    "import os\n",
    "from bs4 import BeautifulSoup\n",
    "import urllib\n",
    "from nltk import word_tokenize\n",
    "from nltk.sentiment.vader import SentimentIntensityAnalyzer\n",
    "import PyPDF2\n",
    "import seaborn as sns"
   ]
  },
  {
   "cell_type": "markdown",
   "metadata": {},
   "source": [
    "We're going to download all the PDFs from the main page of the Carnarvon Elementary School wesbite. To do this we'll use the following packages: requests, os, BeautifulSoup, and urllib."
   ]
  },
  {
   "cell_type": "code",
   "execution_count": 2,
   "metadata": {
    "collapsed": false
   },
   "outputs": [
    {
     "name": "stdout",
     "output_type": "stream",
     "text": [
      "Enter URL:http://go.vsb.bc.ca/schools/strathcona/Pages/default.aspx\n"
     ]
    }
   ],
   "source": [
    "url = input(\"Enter URL:\")\n",
    "# Carnarvon: http://go.vsb.bc.ca/schools/crn/Pages/default.aspx\n",
    "# Stratchona: http://go.vsb.bc.ca/schools/strathcona/Pages/default.aspx\n",
    "response = requests.get(url)\n",
    "\n",
    "# parse website\n",
    "soup = BeautifulSoup(response.content, \"html.parser\")"
   ]
  },
  {
   "cell_type": "code",
   "execution_count": 3,
   "metadata": {
    "collapsed": false
   },
   "outputs": [
    {
     "name": "stdout",
     "output_type": "stream",
     "text": [
      "Downloading: 03939028.pdf\n",
      "Downloading: Snow Event Notification.pdf\n",
      "Downloading: Parent Letter_Curriculum Timeline.pdf\n",
      "Downloading: December 2016 Newsletter.pdf\n",
      "Downloading: November 2016 Newsletter.pdf\n",
      "Downloading: October 2016 Newsletter.pdf\n",
      "Downloading: Parents_Public Schools outgoing.pdf\n",
      "Downloading: September 2016 Newsletter.pdf\n",
      "\n",
      " Downloaded 9 files\n"
     ]
    }
   ],
   "source": [
    "i = 0\n",
    "\n",
    "# <a> tags with href\n",
    "for tag in soup.findAll('a', href = True):\n",
    "    tag[\"href\"] = urllib.parse.urljoin(url, tag[\"href\"]) \n",
    "    \n",
    "# get extension (splitext) from the last name of the full url (basename)\n",
    "# splitext splits it into the filename and extension\n",
    "# [1] gives the second part ie extension\n",
    "    if os.path.splitext(os.path.basename(tag[\"href\"]))[1] == \".pdf\":\n",
    "        current = requests.get(tag[\"href\"])\n",
    "        print(\"Downloading: %s\" % (os.path.basename(tag[\"href\"])))     \n",
    "        f = open(os.path.basename(tag[\"href\"]), \"wb\")        \n",
    "        f.write(current.content)\n",
    "        f.close()\n",
    "        i += 1\n",
    "\n",
    "print(\"\\n Downloaded %d files\" %(i+1))"
   ]
  },
  {
   "cell_type": "markdown",
   "metadata": {},
   "source": [
    "Now that we've downloaded the PDFs, let's do some sentiment analysis.\n",
    "\n",
    "First, we have to extract the text, then format the extracted text so that it's easy to analyze.\n",
    "\n",
    "We'll look at the text sentence by sentence, so we need to extract and separate every sentence in the text."
   ]
  },
  {
   "cell_type": "code",
   "execution_count": 4,
   "metadata": {
    "collapsed": true
   },
   "outputs": [],
   "source": [
    "def get_sentiment_all_pages(file):\n",
    "    \n",
    "    pdf_file = open(file, \"rb\")\n",
    "    read_pdf = PyPDF2.PdfFileReader(pdf_file)\n",
    "    n_pages = read_pdf.getNumPages()\n",
    "\n",
    "    # Get text\n",
    "    pages = [] # list of content of each page\n",
    "    for pg in range(n_pages):\n",
    "        page = read_pdf.getPage(pg)\n",
    "        page_content = page.extractText() # string\n",
    "        pages.append(page_content)\n",
    "                    \n",
    "    # sentiment per page\n",
    "    \n",
    "    print(\"\\n\" + file + \"\\n\")\n",
    "    \n",
    "    sentiment = SentimentIntensityAnalyzer()\n",
    "    count = 0\n",
    "    for page in pages:\n",
    "        ss = sentiment.polarity_scores(page)\n",
    "        print(\"Page \" + str(count))\n",
    "        count += 1\n",
    "        for k in sorted(ss):\n",
    "            print('{0}: {1}, '.format(k, ss[k]), end='')\n",
    "            print()"
   ]
  },
  {
   "cell_type": "markdown",
   "metadata": {},
   "source": [
    "From a quick comparison, it seems like Kitsilano high school's newsletters use less positive language than that of the elementary schools."
   ]
  },
  {
   "cell_type": "markdown",
   "metadata": {},
   "source": [
    "Vader is from: Hutto, C.J. & Gilbert, E.E. (2014). VADER: A Parsimonious Rule-based Model for Sentiment Analysis of Social Media Text. Eighth International Conference on Weblogs and Social Media (ICWSM-14). Ann Arbor, MI, June 2014."
   ]
  },
  {
   "cell_type": "code",
   "execution_count": 40,
   "metadata": {
    "collapsed": false
   },
   "outputs": [],
   "source": [
    "def plot_sentiment(ss):\n",
    "    result = []\n",
    "    for k in sorted(ss):\n",
    "        result.append(ss[k])\n",
    "    return sns.barplot(x=[\"compound\", \"neg\", \"neutral\", \"pos\"], y=result)"
   ]
  },
  {
   "cell_type": "code",
   "execution_count": 47,
   "metadata": {
    "collapsed": true
   },
   "outputs": [],
   "source": [
    "def get_sentiment_one_page(file, page_number):\n",
    "    \n",
    "    pdf_file = open(file, \"rb\")\n",
    "    read_pdf = PyPDF2.PdfFileReader(pdf_file)\n",
    "    n_pages = read_pdf.getNumPages()\n",
    "\n",
    "    # Get text\n",
    "    page = read_pdf.getPage(page_number)\n",
    "    page = page.extractText() # string\n",
    "                    \n",
    "    # sentiment per page\n",
    "    \n",
    "    print(\"\\n\" + file + \"\\n\")\n",
    "    \n",
    "    sentiment = SentimentIntensityAnalyzer()\n",
    "    ss = sentiment.polarity_scores(page)\n",
    "    plot_sentiment(ss)\n",
    "    print(\"Page \" + str(page_number))\n",
    "    for k in sorted(ss):\n",
    "        print('{0}: {1}, '.format(k, ss[k]), end='')\n",
    "        print()"
   ]
  },
  {
   "cell_type": "code",
   "execution_count": 57,
   "metadata": {
    "collapsed": false
   },
   "outputs": [
    {
     "name": "stdout",
     "output_type": "stream",
     "text": [
      "\n",
      "Strathcona Elementary School\\September 2016 Newsletter.pdf\n",
      "\n",
      "Page 2\n",
      "compound: 0.9545, \n",
      "neg: 0.0, \n",
      "neu: 0.782, \n",
      "pos: 0.218, \n"
     ]
    },
    {
     "data": {
      "image/png": "[encoded data removed]",
      "text/plain": [
       "<matplotlib.figure.Figure at 0x1ca380fdcf8>"
      ]
     },
     "metadata": {},
     "output_type": "display_data"
    }
   ],
   "source": [
    "get_sentiment_one_page(\"Strathcona Elementary School\\September 2016 Newsletter.pdf\",2)"
   ]
  },
  {
   "cell_type": "code",
   "execution_count": 60,
   "metadata": {
    "collapsed": false
   },
   "outputs": [
    {
     "name": "stdout",
     "output_type": "stream",
     "text": [
      "\n",
      "Strathcona Elementary School\\September 2016 Newsletter.pdf\n",
      "\n",
      "Page 2\n",
      "compound: 0.9545, \n",
      "neg: 0.0, \n",
      "neu: 0.782, \n",
      "pos: 0.218, \n"
     ]
    },
    {
     "data": {
      "image/png": "[encoded data removed]",
      "text/plain": [
       "<matplotlib.figure.Figure at 0x1ca386b8be0>"
      ]
     },
     "metadata": {},
     "output_type": "display_data"
    }
   ],
   "source": [
    "get_sentiment_one_page(\"Strathcona Elementary School\\September 2016 Newsletter.pdf\",2)"
   ]
  },
  {
   "cell_type": "code",
   "execution_count": 61,
   "metadata": {
    "collapsed": false
   },
   "outputs": [
    {
     "name": "stdout",
     "output_type": "stream",
     "text": [
      "\n",
      "Kitsilano Secondary School\\Summer 2016 Newsletter.pdf\n",
      "\n",
      "Page 2\n",
      "compound: 0.8718, \n",
      "neg: 0.004, \n",
      "neu: 0.953, \n",
      "pos: 0.043, \n"
     ]
    },
    {
     "data": {
      "image/png": "[encoded data removed]",
      "text/plain": [
       "<matplotlib.figure.Figure at 0x1ca3846d390>"
      ]
     },
     "metadata": {},
     "output_type": "display_data"
    }
   ],
   "source": [
    "get_sentiment_one_page(\"Kitsilano Secondary School\\Summer 2016 Newsletter.pdf\",2)"
   ]
  },
  {
   "cell_type": "code",
   "execution_count": 75,
   "metadata": {
    "collapsed": false
   },
   "outputs": [],
   "source": [
    "file = \"Carnarvon Elementary School\\September Newsletter 2016.pdf\"\n",
    "pdf_file = open(file, \"rb\")\n",
    "read_pdf = PyPDF2.PdfFileReader(pdf_file)\n",
    "n_pages = read_pdf.getNumPages()\n",
    "pages = []\n",
    "for pg in range(n_pages):\n",
    "    page = read_pdf.getPage(pg)\n",
    "    page_content = page.extractText() # string\n",
    "    pages.append(page_content)"
   ]
  },
  {
   "cell_type": "code",
   "execution_count": 84,
   "metadata": {
    "collapsed": false
   },
   "outputs": [],
   "source": [
    "def get_sentiment_doc(file):\n",
    "    \n",
    "    pdf_file = open(file, \"rb\")\n",
    "    read_pdf = PyPDF2.PdfFileReader(pdf_file)\n",
    "    n_pages = read_pdf.getNumPages()\n",
    "\n",
    "    # Get text\n",
    "    pages = [] # list of content of each page\n",
    "    for pg in range(n_pages):\n",
    "        page = read_pdf.getPage(pg)\n",
    "        page_content = page.extractText() # string\n",
    "        pages.append(page_content)\n",
    "        all_pages = str(pages)           \n",
    "    # sentiment per page\n",
    "    \n",
    "    print(\"\\n\" + file + \"\\n\")\n",
    "    \n",
    "    sentiment = SentimentIntensityAnalyzer()\n",
    "    ss = sentiment.polarity_scores(all_pages)\n",
    "    plot_sentiment(ss)\n",
    "    for k in sorted(ss):\n",
    "        print('{0}: {1}, '.format(k, ss[k]), end='')\n",
    "        print()"
   ]
  },
  {
   "cell_type": "code",
   "execution_count": 85,
   "metadata": {
    "collapsed": false
   },
   "outputs": [
    {
     "name": "stdout",
     "output_type": "stream",
     "text": [
      "\n",
      "Carnarvon Elementary School\\September Newsletter 2016.pdf\n",
      "\n",
      "compound: 0.9995, \n",
      "neg: 0.008, \n",
      "neu: 0.899, \n",
      "pos: 0.093, \n"
     ]
    },
    {
     "data": {
      "image/png": "[encoded data removed]",
      "text/plain": [
       "<matplotlib.figure.Figure at 0x1ca3868b588>"
      ]
     },
     "metadata": {},
     "output_type": "display_data"
    }
   ],
   "source": [
    "get_sentiment_doc(\"Carnarvon Elementary School\\September Newsletter 2016.pdf\")"
   ]
  },
  {
   "cell_type": "code",
   "execution_count": null,
   "metadata": {
    "collapsed": true
   },
   "outputs": [],
   "source": []
  }
 ],
 "metadata": {
  "kernelspec": {
   "display_name": "Python 3",
   "language": "python",
   "name": "python3"
  },
  "language_info": {
   "codemirror_mode": {
    "name": "ipython",
    "version": 3
   },
   "file_extension": ".py",
   "mimetype": "text/x-python",
   "name": "python",
   "nbconvert_exporter": "python",
   "pygments_lexer": "ipython3",
   "version": "3.6.0"
  }
 },
 "nbformat": 4,
 "nbformat_minor": 2
}
